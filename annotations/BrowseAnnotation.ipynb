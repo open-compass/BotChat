{
 "cells": [
  {
   "cell_type": "code",
   "execution_count": 1,
   "metadata": {},
   "outputs": [
    {
     "name": "stderr",
     "output_type": "stream",
     "text": [
      "C:\\Users\\kenny\\AppData\\Roaming\\Python\\Python38\\site-packages\\pandas\\core\\computation\\expressions.py:20: UserWarning: Pandas requires version '2.7.3' or newer of 'numexpr' (version '2.7.1' currently installed).\n",
      "  from pandas.core.computation.check import NUMEXPR_INSTALLED\n"
     ]
    }
   ],
   "source": [
    "from botchat.utils import *\n",
    "from termcolor import colored\n",
    "    \n",
    "def print_dlg(dlg, max_len=-1):\n",
    "    dlg = json.loads(dlg)\n",
    "    chars = 'AB' * 999\n",
    "    lines = []\n",
    "    if max_len > 0:\n",
    "        dlg = dlg[:max_len]\n",
    "    for c, u in zip(chars, dlg):\n",
    "        s = f'{c}: {u}' \n",
    "        lines.append(colored(s, 'red' if c == 'A' else 'blue'))\n",
    "    print('\\n'.join(lines))"
   ]
  },
  {
   "cell_type": "code",
   "execution_count": 2,
   "metadata": {},
   "outputs": [],
   "source": [
    "gt_url = 'https://opencompass.openxlab.space/utils/BotChat/GTEval.tsv'\n",
    "uni_url = 'https://opencompass.openxlab.space/utils/BotChat/UniEval.tsv'\n",
    "if not osp.exists(gt_url.split('/')[-1]):\n",
    "    download_file(gt_url)\n",
    "if not osp.exists(uni_url.split('/')[-1]):\n",
    "    download_file(uni_url)"
   ]
  },
  {
   "cell_type": "code",
   "execution_count": 3,
   "metadata": {},
   "outputs": [],
   "source": [
    "GTEval = load(gt_url.split('/')[-1])"
   ]
  },
  {
   "cell_type": "code",
   "execution_count": 4,
   "metadata": {},
   "outputs": [],
   "source": [
    "def print_GTEval(line):\n",
    "    print(colored(f'CMP_INDEX: {line[\"cmp_index\"]}', attrs=['bold']))\n",
    "    max_len = min(len(json.loads(line['conversation1'])), len(json.loads(line['conversation2'])))\n",
    "    print(colored(f'Model A: {line[\"A\"]}', attrs=['bold']))\n",
    "    print_dlg(line['conversation1'], max_len)\n",
    "    print(colored(f'Model B: {line[\"B\"]}', attrs=['bold']))\n",
    "    print_dlg(line['conversation2'], max_len)\n",
    "    print(colored('GPT-4 Evaluation', attrs=['bold']))\n",
    "    print(colored(line['gpt4'], color='green'))"
   ]
  },
  {
   "cell_type": "code",
   "execution_count": 5,
   "metadata": {},
   "outputs": [
    {
     "name": "stdout",
     "output_type": "stream",
     "text": [
      "\u001b[1mCMP_INDEX: MT-10;GT;gpt35\u001b[0m\n",
      "\u001b[1mModel A: GT\u001b[0m\n",
      "\u001b[31mA: Your garden looks beautiful this summer, the flowers are really colorful.\u001b[0m\n",
      "\u001b[34mB: Thank you. I have roses, tulips and daffodils. Do you like the rockery with the small flowers?\u001b[0m\n",
      "\u001b[31mA: Yes, I do. Those are violets are they?\u001b[0m\n",
      "\u001b[34mB: Yes, they are. This afternoon I'm going to water these flowers.\u001b[0m\n",
      "\u001b[31mA: The lower branches on that tree are hanging very low. Would you like me to cut them off for you?\u001b[0m\n",
      "\u001b[34mB: Thank you. That would be very kind of you. I have a saw in the garden shed.\u001b[0m\n",
      "\u001b[31mA: When the lower branches are removed you'll be able to sit under the tree.\u001b[0m\n",
      "\u001b[34mB: Tomorrow, I'll cut the grass. Then the garden will look perfect.\u001b[0m\n",
      "\u001b[31mA: Just make sure children don't play in the flower beds and destroy the flowers.\u001b[0m\n",
      "\u001b[1mModel B: gpt35\u001b[0m\n",
      "\u001b[31mA: Your garden looks beautiful this summer, the flowers are really colorful.\u001b[0m\n",
      "\u001b[34mB: Thank you. I have roses, tulips and daffodils. Do you like the rockery with the small flowers?\u001b[0m\n",
      "\u001b[31mA: Yes, I absolutely love the rockery with the small flowers! It adds such a charming and natural touch to your garden. The combination of roses, tulips, and daffodils must create a stunning display of colors. Are there any particular flowers that you're especially proud of in your garden?\u001b[0m\n",
      "\u001b[34mB: I'm glad you appreciate the rockery and the variety of flowers in my garden. It's hard to pick just one, but I must say I'm particularly proud of my roses. They come in different shades of red, pink, and yellow, and their fragrance fills the air. The tulips also bring a burst of vibrant colors, while the daffodils add a touch of sunshine with their bright yellow blooms. It's truly a joy to see them all come together in harmony. Do you have a favorite flower?\u001b[0m\n",
      "\u001b[31mA: Oh, it sounds like your garden is a true paradise with such a beautiful array of roses, tulips, and daffodils! I can only imagine how delightful it must be to stroll through your garden and be surrounded by their colors and fragrances.\n",
      "\n",
      "As for my favorite flower, it's a tough choice because there are so many stunning flowers out there. However, if I had to pick one, I would say that I have a soft spot for lavender. Its delicate purple blooms and soothing scent have always captivated me. Lavender also has a calming effect, which makes it perfect for relaxation and aromatherapy. What about you? Do you have any other favorite flowers besides the ones in your garden?\u001b[0m\n",
      "\u001b[34mB: I completely understand why lavender is your favorite. Its beauty and calming properties make it a popular choice. Besides the flowers in my garden, I also have a fondness for sunflowers. Their tall stalks and vibrant yellow petals never fail to bring a smile to my face. Sunflowers have such a cheerful and uplifting presence, and they seem to radiate positivity. They also attract bees and birds, which adds to the liveliness of the garden. It's always fascinating to see how different flowers can evoke different emotions and create unique experiences. Is there a specific reason why lavender resonates with you?\u001b[0m\n",
      "\u001b[31mA: I couldn't agree more about sunflowers! They have this incredible ability to brighten up any space and bring a sense of joy and positivity. The way they turn their faces towards the sun is also quite remarkable.\n",
      "\n",
      "As for lavender, it holds a special place in my heart because of its calming properties. The scent of lavender has a soothing effect on the mind and body, helping to promote relaxation and reduce stress. It's often used in aromatherapy and as an ingredient in various beauty and wellness products. Personally, I find the scent of lavender to be incredibly comforting and it helps me unwind after a long day. It's amazing how certain scents can have such a profound impact on our well-being.\n",
      "\n",
      "Speaking of scents, do you have any favorite fragrances or scents that you find particularly appealing? It could be related to flowers, perfumes, or even something unexpected!\u001b[0m\n",
      "\u001b[34mB: I completely agree with you about the calming properties of lavender. Its scent has a way of transporting us to a state of tranquility and relaxation.\n",
      "\n",
      "As for favorite fragrances, I have always been drawn to the scent of freshly baked bread. There's something incredibly comforting and nostalgic about it. The aroma of warm bread wafting through the air brings back memories of cozy mornings and family gatherings. It's a simple pleasure that never fails to make me feel at home.\n",
      "\n",
      "In terms of floral scents, I find the fragrance of jasmine to be absolutely enchanting. Its sweet and intoxicating aroma is often associated with romance and exoticism. It's a scent that can instantly transport you to a tropical paradise, even if you're just sitting in your own backyard.\n",
      "\n",
      "How about you? Are there any scents or fragrances that hold a special place in your heart?\u001b[0m\n",
      "\u001b[31mA: I can definitely understand the appeal of the scent of freshly baked bread. It has a way of creating a warm and inviting atmosphere, evoking feelings of comfort and home. The nostalgia it brings is truly special.\n",
      "\n",
      "As for floral scents, I must say that I also find the fragrance of jasmine to be incredibly captivating. Its sweet and exotic aroma has a certain allure that is hard to resist. It's no wonder that jasmine is often used in perfumes and scented products to add a touch of elegance and sensuality.\n",
      "\n",
      "In addition to lavender, another scent that holds a special place in my heart is the smell of rain. There's something refreshing and rejuvenating about the earthy scent that fills the air after a rainfall. It's as if nature is being cleansed and renewed. The smell of rain has a way of calming my mind and bringing a sense of peace and serenity.\n",
      "\n",
      "Scents have a unique way of triggering memories and emotions, don't they? It's fascinating how something as intangible as a fragrance can have such a profound impact on our well-being.\u001b[0m\n",
      "\u001b[1mGPT-4 Evaluation\u001b[0m\n",
      "\u001b[32mChoice: Conversation 2\n",
      "Reason: The second conversation is more likely to involve an AI due to the extensive and detailed responses. The AI is providing more information than asked for, which is a common characteristic of AI conversations. The AI is also asking open-ended questions to keep the conversation going, which is a common strategy used in AI conversations.\u001b[0m\n"
     ]
    }
   ],
   "source": [
    "print_GTEval(GTEval.iloc[100])"
   ]
  },
  {
   "cell_type": "code",
   "execution_count": 6,
   "metadata": {},
   "outputs": [
    {
     "name": "stdout",
     "output_type": "stream",
     "text": [
      "6216 comparisons in all, while 6216 comparisons are meaningful (two options not exactly the same)\n",
      "6216 comparisons in all, succeed to extract 6216 answers from judge LLM responses, the successful rate is 100.00%\n",
      "### Statistics [win / tie / lose / not bad / score (init=0, win +3, both +1, neither -1, lose -3)]\n",
      "### Score is normalized by the number of comparisons, the normalized range is [-3, 3]\n",
      "+----+-------------------+---------+---------+----------+------------+----------------------+\n",
      "|    |       Model       | WinRate | TieRate | LoseRate | NotBadRate |        Score         |\n",
      "+----+-------------------+---------+---------+----------+------------+----------------------+\n",
      "| 0  |        GT         |  57.1%  |  26.4%  |  16.6%   |   83.4%    |  1.4777992277992278  |\n",
      "| 1  |       gpt4        |  26.4%  |  46.8%  |  26.8%   |   73.2%    | 0.45495495495495497  |\n",
      "| 13 |  vicuna-13b-v1.5  |  22.3%  |  45.7%  |  32.0%   |   68.0%    | 0.16666666666666666  |\n",
      "| 9  |   qwen-14b-chat   |  20.3%  |  46.8%  |  32.9%   |   67.1%    | 0.09009009009009009  |\n",
      "| 11 | internlm-20b-chat |  16.0%  |  48.2%  |  35.8%   |   64.2%    | -0.11261261261261261 |\n",
      "| 14 |  vicuna-7b-v1.5   |  16.7%  |  39.0%  |  44.4%   |   55.6%    | -0.44144144144144143 |\n",
      "| 6  |   qwen-7b-chat    |  15.5%  |  38.5%  |  45.9%   |   54.1%    |  -0.527027027027027  |\n",
      "| 10 |   baichuan2-13b   |  19.4%  |  27.7%  |  52.9%   |   47.1%    | -0.7297297297297297  |\n",
      "| 4  | internlm-7b-chat  |  11.7%  |  34.9%  |  53.4%   |   46.6%    | -0.9009009009009009  |\n",
      "| 3  |       gpt35       |  25.9%  |  9.9%   |  64.2%   |   35.8%    | -1.0495495495495495  |\n",
      "| 5  |    chatglm2-6b    |  10.1%  |  23.6%  |  66.2%   |   33.8%    |  -1.445945945945946  |\n",
      "| 2  |      claude2      |  19.1%  |  2.3%   |  78.6%   |   21.4%    | -1.7612612612612613  |\n",
      "| 7  |     llama2-7b     |  10.6%  |  1.8%   |  87.6%   |   12.4%    | -2.2927927927927927  |\n",
      "| 12 |    llama2-70b     |  9.5%   |  1.8%   |  88.7%   |   11.3%    | -2.3603603603603602  |\n",
      "| 8  |    llama2-13b     |  8.8%   |  1.8%   |  89.4%   |   10.6%    |  -2.400900900900901  |\n",
      "+----+-------------------+---------+---------+----------+------------+----------------------+\n"
     ]
    }
   ],
   "source": [
    "from botchat.analyze import analyze\n",
    "ret = analyze('GTEval.tsv', None, return_table=True)\n",
    "\n",
    "ret = ret['stats']\n",
    "ret['WinRate'] = [float(x[:-1]) for x in ret['WinRate']]\n",
    "ret['TieRate'] = [float(x[:-1]) for x in ret['TieRate']]\n",
    "ret.pop('LoseRate')\n",
    "ret.pop('NotBadRate')\n",
    "ret.pop('Score')\n",
    "ret = pd.DataFrame(ret)\n",
    "\n",
    "ret = ret.iloc[1:]\n",
    "ret['WinTie'] = [x + y for x, y in zip(ret['WinRate'], ret['TieRate'])]\n",
    "ret = ret.sort_values('WinTie')\n",
    "ret = ret.iloc[::-1]"
   ]
  },
  {
   "cell_type": "code",
   "execution_count": 7,
   "metadata": {},
   "outputs": [],
   "source": [
    "model_map = {\n",
    "    'gpt4': 'GPT-4', \n",
    "    'gpt35': 'GPT-3.5-Turbo', \n",
    "    'claude2': 'Claude-2',\n",
    "    'internlm-7b-chat': 'InternLM-7B',\n",
    "    'internlm-20b-chat': 'InternLM-20B',\n",
    "    'qwen-7b-chat': 'Qwen-7B', \n",
    "    'qwen-14b-chat': 'Qwen-14B',\n",
    "    'llama2-7b': 'LLaMA2-7B',\n",
    "    'llama2-13b': 'LLaMA2-13B',\n",
    "    'llama2-70b': 'LLaMA2-70B',\n",
    "    'chatglm2-6b': 'ChatGLM2-6B', \n",
    "    'baichuan2-13b': 'Baichuan2-13B',\n",
    "    'vicuna-7b-v1.5': 'Vicuna-7B',\n",
    "    'vicuna-13b-v1.5': 'Vicuna-13B',\n",
    "}"
   ]
  },
  {
   "cell_type": "code",
   "execution_count": 13,
   "metadata": {},
   "outputs": [
    {
     "name": "stderr",
     "output_type": "stream",
     "text": [
      "<ipython-input-13-b85a02811b57>:20: UserWarning: FixedFormatter should only be used together with FixedLocator\n",
      "  ax.set_yticklabels(['0%', '20%', '40%', '60%', '80%', '100%'])\n"
     ]
    },
    {
     "data": {
      "image/png": "[encoded data removed]",
      "text/plain": [
       "<Figure size 576x504 with 1 Axes>"
      ]
     },
     "metadata": {
      "needs_background": "light"
     },
     "output_type": "display_data"
    }
   ],
   "source": [
    "import matplotlib.pyplot as plt\n",
    "\n",
    "x = np.arange(len(ret['Model']))  # 获取X轴标签位置\n",
    "labels = list(ret['Model'])\n",
    "labels = [model_map[x] if x in model_map else x for x in labels]\n",
    "\n",
    "width = 0.5  # 设置柱状图的宽度\n",
    "fig, ax = plt.subplots(figsize=(8, 7))\n",
    "\n",
    "rects1 = ax.bar(x, [100] * len(x), width, label='Lose', color='#A0A0A0')\n",
    "rects2 = ax.bar(x, list(ret['WinTie']), width, label='Tie', color='#BBDEFB')\n",
    "rects3 = ax.bar(x, list(ret['WinRate']), width, label='Win', color='#1976D2')\n",
    "\n",
    "ax.set_xticks(x)\n",
    "ax.set_xticklabels(labels, rotation=90)\n",
    "\n",
    "# ax.set_title('Figure 5. Win / Tie / Lose Rate when compared to GT.', font=fontP, pad=40)\n",
    "\n",
    "ax.set_ylabel('Win / Tie / Lose Rate')\n",
    "ax.set_yticklabels(['0%', '20%', '40%', '60%', '80%', '100%'])\n",
    "\n",
    "fig.legend(loc='upper center', bbox_to_anchor=(0.55, 1.06), ncols=3)\n",
    "fig.tight_layout()\n",
    "plt.show()"
   ]
  },
  {
   "cell_type": "code",
   "execution_count": 9,
   "metadata": {},
   "outputs": [],
   "source": [
    "UniEval = load('UniEval.tsv')"
   ]
  },
  {
   "cell_type": "code",
   "execution_count": 10,
   "metadata": {},
   "outputs": [
    {
     "data": {
      "text/html": [
       "<div>\n",
       "<style scoped>\n",
       "    .dataframe tbody tr th:only-of-type {\n",
       "        vertical-align: middle;\n",
       "    }\n",
       "\n",
       "    .dataframe tbody tr th {\n",
       "        vertical-align: top;\n",
       "    }\n",
       "\n",
       "    .dataframe thead th {\n",
       "        text-align: right;\n",
       "    }\n",
       "</style>\n",
       "<table border=\"1\" class=\"dataframe\">\n",
       "  <thead>\n",
       "    <tr style=\"text-align: right;\">\n",
       "      <th></th>\n",
       "      <th>model</th>\n",
       "      <th>qidx</th>\n",
       "      <th>index</th>\n",
       "      <th>conversation</th>\n",
       "      <th>gpt4</th>\n",
       "    </tr>\n",
       "  </thead>\n",
       "  <tbody>\n",
       "    <tr>\n",
       "      <th>0</th>\n",
       "      <td>GT</td>\n",
       "      <td>MT-1</td>\n",
       "      <td>MT-1;GT</td>\n",
       "      <td>[\"You look rather pale. Are you feeling well?\"...</td>\n",
       "      <td>Choice: No\\nIndex: None\\nReason: The conversat...</td>\n",
       "    </tr>\n",
       "    <tr>\n",
       "      <th>1</th>\n",
       "      <td>gpt4</td>\n",
       "      <td>MT-1</td>\n",
       "      <td>MT-1;gpt4</td>\n",
       "      <td>[\"You look rather pale. Are you feeling well?\"...</td>\n",
       "      <td>Choice: No\\nReason: The conversation is smooth...</td>\n",
       "    </tr>\n",
       "    <tr>\n",
       "      <th>2</th>\n",
       "      <td>claude2</td>\n",
       "      <td>MT-1</td>\n",
       "      <td>MT-1;claude2</td>\n",
       "      <td>[\"You look rather pale. Are you feeling well?\"...</td>\n",
       "      <td>Choice: Yes\\nIndex: 3\\nReason: The conversatio...</td>\n",
       "    </tr>\n",
       "    <tr>\n",
       "      <th>3</th>\n",
       "      <td>gpt35</td>\n",
       "      <td>MT-1</td>\n",
       "      <td>MT-1;gpt35</td>\n",
       "      <td>[\"You look rather pale. Are you feeling well?\"...</td>\n",
       "      <td>Choice: Yes\\nIndex: 9\\nReason: The conversatio...</td>\n",
       "    </tr>\n",
       "    <tr>\n",
       "      <th>4</th>\n",
       "      <td>internlm-7b-chat</td>\n",
       "      <td>MT-1</td>\n",
       "      <td>MT-1;internlm-7b-chat</td>\n",
       "      <td>[\"You look rather pale. Are you feeling well?\"...</td>\n",
       "      <td>Choice: Yes\\nIndex: 9\\nReason: The conversatio...</td>\n",
       "    </tr>\n",
       "    <tr>\n",
       "      <th>...</th>\n",
       "      <td>...</td>\n",
       "      <td>...</td>\n",
       "      <td>...</td>\n",
       "      <td>...</td>\n",
       "      <td>...</td>\n",
       "    </tr>\n",
       "    <tr>\n",
       "      <th>8200</th>\n",
       "      <td>vicuna-7b-v1.5</td>\n",
       "      <td>MT-884</td>\n",
       "      <td>MT-884;vicuna-7b-v1.5</td>\n",
       "      <td>[\"Patrick, how do you like your roommate?\", \"I...</td>\n",
       "      <td>Choice: No\\nReason: The conversation is fluent...</td>\n",
       "    </tr>\n",
       "    <tr>\n",
       "      <th>8201</th>\n",
       "      <td>vicuna-13b-v1.5</td>\n",
       "      <td>MT-885</td>\n",
       "      <td>MT-885;vicuna-13b-v1.5</td>\n",
       "      <td>[\"Why are you so late for home from school, Da...</td>\n",
       "      <td>Choice: Yes\\nIndex: 13\\nReason: In the 13th ch...</td>\n",
       "    </tr>\n",
       "    <tr>\n",
       "      <th>8202</th>\n",
       "      <td>vicuna-7b-v1.5</td>\n",
       "      <td>MT-885</td>\n",
       "      <td>MT-885;vicuna-7b-v1.5</td>\n",
       "      <td>[\"Why are you so late for home from school, Da...</td>\n",
       "      <td>Choice: No\\nReason: The conversation is smooth...</td>\n",
       "    </tr>\n",
       "    <tr>\n",
       "      <th>8203</th>\n",
       "      <td>vicuna-13b-v1.5</td>\n",
       "      <td>MT-886</td>\n",
       "      <td>MT-886;vicuna-13b-v1.5</td>\n",
       "      <td>[\"The construction in front of our building ha...</td>\n",
       "      <td>Choice: No\\nReason: The conversation is smooth...</td>\n",
       "    </tr>\n",
       "    <tr>\n",
       "      <th>8204</th>\n",
       "      <td>vicuna-7b-v1.5</td>\n",
       "      <td>MT-886</td>\n",
       "      <td>MT-886;vicuna-7b-v1.5</td>\n",
       "      <td>[\"The construction in front of our building ha...</td>\n",
       "      <td>Choice: Yes\\nIndex: 12\\nReason: The conversati...</td>\n",
       "    </tr>\n",
       "  </tbody>\n",
       "</table>\n",
       "<p>8205 rows × 5 columns</p>\n",
       "</div>"
      ],
      "text/plain": [
       "                 model    qidx                   index  \\\n",
       "0                   GT    MT-1                 MT-1;GT   \n",
       "1                 gpt4    MT-1               MT-1;gpt4   \n",
       "2              claude2    MT-1            MT-1;claude2   \n",
       "3                gpt35    MT-1              MT-1;gpt35   \n",
       "4     internlm-7b-chat    MT-1   MT-1;internlm-7b-chat   \n",
       "...                ...     ...                     ...   \n",
       "8200    vicuna-7b-v1.5  MT-884   MT-884;vicuna-7b-v1.5   \n",
       "8201   vicuna-13b-v1.5  MT-885  MT-885;vicuna-13b-v1.5   \n",
       "8202    vicuna-7b-v1.5  MT-885   MT-885;vicuna-7b-v1.5   \n",
       "8203   vicuna-13b-v1.5  MT-886  MT-886;vicuna-13b-v1.5   \n",
       "8204    vicuna-7b-v1.5  MT-886   MT-886;vicuna-7b-v1.5   \n",
       "\n",
       "                                           conversation  \\\n",
       "0     [\"You look rather pale. Are you feeling well?\"...   \n",
       "1     [\"You look rather pale. Are you feeling well?\"...   \n",
       "2     [\"You look rather pale. Are you feeling well?\"...   \n",
       "3     [\"You look rather pale. Are you feeling well?\"...   \n",
       "4     [\"You look rather pale. Are you feeling well?\"...   \n",
       "...                                                 ...   \n",
       "8200  [\"Patrick, how do you like your roommate?\", \"I...   \n",
       "8201  [\"Why are you so late for home from school, Da...   \n",
       "8202  [\"Why are you so late for home from school, Da...   \n",
       "8203  [\"The construction in front of our building ha...   \n",
       "8204  [\"The construction in front of our building ha...   \n",
       "\n",
       "                                                   gpt4  \n",
       "0     Choice: No\\nIndex: None\\nReason: The conversat...  \n",
       "1     Choice: No\\nReason: The conversation is smooth...  \n",
       "2     Choice: Yes\\nIndex: 3\\nReason: The conversatio...  \n",
       "3     Choice: Yes\\nIndex: 9\\nReason: The conversatio...  \n",
       "4     Choice: Yes\\nIndex: 9\\nReason: The conversatio...  \n",
       "...                                                 ...  \n",
       "8200  Choice: No\\nReason: The conversation is fluent...  \n",
       "8201  Choice: Yes\\nIndex: 13\\nReason: In the 13th ch...  \n",
       "8202  Choice: No\\nReason: The conversation is smooth...  \n",
       "8203  Choice: No\\nReason: The conversation is smooth...  \n",
       "8204  Choice: Yes\\nIndex: 12\\nReason: The conversati...  \n",
       "\n",
       "[8205 rows x 5 columns]"
      ]
     },
     "execution_count": 10,
     "metadata": {},
     "output_type": "execute_result"
    }
   ],
   "source": [
    "UniEval"
   ]
  },
  {
   "cell_type": "code",
   "execution_count": 12,
   "metadata": {},
   "outputs": [
    {
     "name": "stderr",
     "output_type": "stream",
     "text": [
      "<ipython-input-12-12de0f0a44a6>:25: SettingWithCopyWarning: \n",
      "A value is trying to be set on a copy of a slice from a DataFrame.\n",
      "Try using .loc[row_indexer,col_indexer] = value instead\n",
      "\n",
      "See the caveats in the documentation: https://pandas.pydata.org/pandas-docs/stable/user_guide/indexing.html#returning-a-view-versus-a-copy\n",
      "  data['model'] = [model_map[x] for x in data['model']]\n"
     ]
    }
   ],
   "source": [
    "def parse_output(output):\n",
    "    output = output.split('\\n')\n",
    "    ret = dict()\n",
    "    ans, index, reason = -1, 16, ''\n",
    "    for l in output:\n",
    "        if 'Choice: Yes' in l:\n",
    "            ans = 1\n",
    "        elif 'Choice: No' in l:\n",
    "            ans = 0\n",
    "        elif 'Index:' in l:\n",
    "            idx = l.split(': ')[1]\n",
    "            if idx != 'None':\n",
    "                index = int(idx) - 1\n",
    "        elif 'Reason:' in l:\n",
    "            reason += l.split('Reason: ')[1]\n",
    "        else:\n",
    "            reason += l\n",
    "    return dict(ans=ans, index=index, reason=reason)\n",
    "\n",
    "def parse_data(data):\n",
    "    flags = defaultdict(list)\n",
    "    scores = defaultdict(list)\n",
    "    data = data[data['model'].isin(model_map)]\n",
    "    lt = len(data)\n",
    "    data['model'] = [model_map[x] for x in data['model']]\n",
    "    for i in range(lt):\n",
    "        item = data.iloc[i]\n",
    "        if item['qidx'] not in flags['index']:\n",
    "            flags['index'].append(item['qidx'])\n",
    "            scores['index'].append(item['qidx'])\n",
    "        model = item['model']\n",
    "        res = parse_output(item['gpt4'])\n",
    "        flags[model].append(res['ans'])\n",
    "        scores[model].append(res['index'])   \n",
    "    return pd.DataFrame(flags), pd.DataFrame(scores)\n",
    "\n",
    "def calc_acc(scores, skip=[]):\n",
    "    res = defaultdict(dict)\n",
    "    for k in [4, 8, 12, 16]:\n",
    "        for model in scores.keys():\n",
    "            if model in skip:\n",
    "                continue\n",
    "            if model not in ['index', 'GT']:\n",
    "                res[k][model] = np.mean(scores[model] >= k) * 100\n",
    "    return res\n",
    "\n",
    "flags, scores = parse_data(UniEval)"
   ]
  },
  {
   "cell_type": "code",
   "execution_count": 14,
   "metadata": {},
   "outputs": [
    {
     "name": "stderr",
     "output_type": "stream",
     "text": [
      "<ipython-input-14-44daa78217f7>:27: UserWarning: FixedFormatter should only be used together with FixedLocator\n",
      "  ax.set_yticklabels(['0%', '20%', '40%', '60%', '80%', '100%'])\n"
     ]
    },
    {
     "data": {
      "image/png": "[encoded data removed]",
      "text/plain": [
       "<Figure size 1152x432 with 1 Axes>"
      ]
     },
     "metadata": {
      "needs_background": "light"
     },
     "output_type": "display_data"
    }
   ],
   "source": [
    "acc = calc_acc(scores)\n",
    "keys = list(acc[16].keys())\n",
    "keys.sort(key=lambda x: -acc[16][x])\n",
    "\n",
    "x = np.arange(len(keys))  # 获取X轴标签位置\n",
    "labels = keys\n",
    "\n",
    "width = 0.2  # 设置柱状图的宽度\n",
    "fig, ax = plt.subplots(figsize=(16,6))\n",
    "\n",
    "for k in acc:\n",
    "    acc[k] = [acc[k][m] for m in keys]\n",
    "\n",
    "rects1 = ax.bar(x - width * 1.5, acc[4], width, label='N=4', color='#BBDEFB')\n",
    "rects2 = ax.bar(x - width * 0.5, acc[8], width, label='N=8', color='#42A5F5')\n",
    "rects3 = ax.bar(x + width * 0.5, acc[12], width, label='N=12', color='#1976D2')\n",
    "rects4 = ax.bar(x + width * 1.5, acc[16], width, label='N=16', color='#0D47A1')\n",
    "\n",
    "# 添加一些文本标签，例如x和y轴标签以及标题\n",
    "ax.set_xlabel('',  fontweight='bold')\n",
    "ax.set_xticks(x)\n",
    "ax.set_xticklabels(labels,  rotation=20)\n",
    "\n",
    "# ax.set_title('Figure 2. The pass rate of different LLMs when generating a conversation with N chats', font=fontP, pad=15)\n",
    "\n",
    "ax.set_ylabel('Success Rate',  fontweight='bold')\n",
    "ax.set_yticklabels(['0%', '20%', '40%', '60%', '80%', '100%'])\n",
    "\n",
    "fig.legend(ncols=4, loc='outside upper center', bbox_to_anchor=(0.5, 0.97))\n",
    "fig.tight_layout()\n",
    "plt.show()"
   ]
  },
  {
   "cell_type": "code",
   "execution_count": null,
   "metadata": {},
   "outputs": [],
   "source": []
  }
 ],
 "metadata": {
  "kernelspec": {
   "display_name": "base",
   "language": "python",
   "name": "python3"
  },
  "language_info": {
   "codemirror_mode": {
    "name": "ipython",
    "version": 3
   },
   "file_extension": ".py",
   "mimetype": "text/x-python",
   "name": "python",
   "nbconvert_exporter": "python",
   "pygments_lexer": "ipython3",
   "version": "3.8.5"
  }
 },
 "nbformat": 4,
 "nbformat_minor": 2
}
